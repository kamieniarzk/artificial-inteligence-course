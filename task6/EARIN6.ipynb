{
  "nbformat": 4,
  "nbformat_minor": 0,
  "metadata": {
    "colab": {
      "name": "EARIN6.ipynb",
      "provenance": [],
      "collapsed_sections": []
    },
    "kernelspec": {
      "name": "python3",
      "display_name": "Python 3"
    },
    "language_info": {
      "name": "python"
    }
  },
  "cells": [
    {
      "cell_type": "code",
      "metadata": {
        "id": "16MGK_uWZPfS"
      },
      "source": [
        "import pandas as pd\n",
        "import numpy as np\n",
        "import random\n",
        "import numpy as np\n",
        "\n",
        "from sklearn import linear_model\n",
        "import matplotlib.pyplot as plt\n",
        "from sklearn import svm\n",
        "from sklearn.metrics import accuracy_score, f1_score, confusion_matrix, recall_score\n",
        "from sklearn.model_selection import cross_val_score\n",
        "from sklearn.ensemble import RandomForestClassifier"
      ],
      "execution_count": 86,
      "outputs": []
    },
    {
      "cell_type": "code",
      "metadata": {
        "id": "_3RKz7S6akkz"
      },
      "source": [
        "csv_path = \"/content/winequality-red.csv\""
      ],
      "execution_count": 2,
      "outputs": []
    },
    {
      "cell_type": "code",
      "metadata": {
        "id": "-IDa5AjTae9s"
      },
      "source": [
        "df = pd.read_csv(csv_path)"
      ],
      "execution_count": 98,
      "outputs": []
    },
    {
      "cell_type": "code",
      "metadata": {
        "id": "A6C46KOTFgyV"
      },
      "source": [
        "# index_names = wines[wines[\"quality\"] == 3].index\n",
        "# wines.drop(index_names, inplace=True)"
      ],
      "execution_count": 5,
      "outputs": []
    },
    {
      "cell_type": "code",
      "metadata": {
        "id": "2VgF4WaAepAk"
      },
      "source": [
        "wines = df.sample(frac=1).copy()\n",
        "train_dataset = wines.sample(frac=0.8, random_state=0)\n",
        "wines = wines.drop(train_dataset.index)\n",
        "validation_dataset = wines.sample(frac=0.5, random_state=0)\n",
        "test_dataset = wines.drop(validation_dataset.index)\n",
        "# test_dataset = wines.drop(train_dataset.index)"
      ],
      "execution_count": 99,
      "outputs": []
    },
    {
      "cell_type": "code",
      "metadata": {
        "id": "4oBYRiAYg9Ke",
        "colab": {
          "base_uri": "https://localhost:8080/"
        },
        "outputId": "2d6c48ab-ed23-4f9c-f676-43c7cea504a6"
      },
      "source": [
        "print(train_dataset)\n",
        "print(validation_dataset)\n",
        "print(test_dataset)\n",
        "\n",
        "assert len(train_dataset) + len(validation_dataset) + len(test_dataset) == len(df)"
      ],
      "execution_count": 100,
      "outputs": [
        {
          "output_type": "stream",
          "text": [
            "      fixed acidity  volatile acidity  citric acid  ...  sulphates  alcohol  quality\n",
            "869             7.6              0.63         0.03  ...       0.64     10.9        6\n",
            "1216            7.9              0.57         0.31  ...       0.69      9.5        6\n",
            "935             8.8              0.30         0.38  ...       0.72     11.8        6\n",
            "798             9.4              0.50         0.34  ...       0.52     10.7        6\n",
            "1351            7.2              0.62         0.01  ...       0.51     11.8        6\n",
            "...             ...               ...          ...  ...        ...      ...      ...\n",
            "236             7.2              0.63         0.00  ...       0.58      9.0        6\n",
            "760             9.0              0.58         0.25  ...       0.57      9.7        5\n",
            "95              4.7              0.60         0.17  ...       0.60     12.9        6\n",
            "1143            7.0              0.22         0.30  ...       0.82     10.0        6\n",
            "837             6.7              0.28         0.28  ...       0.39     11.7        7\n",
            "\n",
            "[1279 rows x 12 columns]\n",
            "      fixed acidity  volatile acidity  citric acid  ...  sulphates  alcohol  quality\n",
            "470            13.0             0.320         0.65  ...       0.61     10.6        5\n",
            "321             9.3             0.610         0.26  ...       0.62      9.7        5\n",
            "1318            7.5             0.630         0.27  ...       0.58      9.8        6\n",
            "1586            7.5             0.310         0.41  ...       0.85     11.4        6\n",
            "1350            9.0             0.600         0.29  ...       0.57     10.0        5\n",
            "...             ...               ...          ...  ...        ...      ...      ...\n",
            "1534            6.6             0.560         0.14  ...       0.62     11.7        7\n",
            "599            12.7             0.590         0.45  ...       0.70      9.3        6\n",
            "351             9.1             0.795         0.00  ...       0.83      9.4        6\n",
            "43              8.1             0.660         0.22  ...       1.20     10.3        5\n",
            "960             8.5             0.470         0.27  ...       0.85     11.1        6\n",
            "\n",
            "[160 rows x 12 columns]\n",
            "      fixed acidity  volatile acidity  citric acid  ...  sulphates  alcohol  quality\n",
            "79              8.3             0.625         0.20  ...       1.12      9.1        4\n",
            "1387            7.4             0.640         0.07  ...       0.58      9.6        5\n",
            "78              6.7             0.750         0.12  ...       0.52     10.1        5\n",
            "471             9.6             0.540         0.42  ...       0.71     11.4        6\n",
            "1324            6.7             0.460         0.24  ...       0.60     10.6        6\n",
            "...             ...               ...          ...  ...        ...      ...      ...\n",
            "388             7.8             0.460         0.26  ...       0.74      9.2        6\n",
            "1007            9.1             0.300         0.34  ...       0.84     11.7        7\n",
            "1168            6.5             0.340         0.27  ...       0.56     12.0        6\n",
            "1465            6.8             0.590         0.10  ...       0.67      9.7        5\n",
            "1092            7.0             0.540         0.09  ...       0.59     11.5        6\n",
            "\n",
            "[160 rows x 12 columns]\n"
          ],
          "name": "stdout"
        }
      ]
    },
    {
      "cell_type": "code",
      "metadata": {
        "id": "byJFn56b5ecX"
      },
      "source": [
        "# Train data\n",
        "X_train = train_dataset.values[:, :11]\n",
        "Y_train = train_dataset.values[:, 11]\n",
        "\n",
        "# # # Validation data\n",
        "X_val = validation_dataset.values[:, :11]\n",
        "Y_val = validation_dataset.values[:, 11]\n",
        "\n",
        "# Test data\n",
        "X_test = test_dataset.values[:, :11]\n",
        "Y_test = test_dataset.values[:, 11]"
      ],
      "execution_count": 101,
      "outputs": []
    },
    {
      "cell_type": "code",
      "metadata": {
        "id": "V7-JpLJ07QUt"
      },
      "source": [
        "rbf = svm.SVC(kernel='rbf', gamma=\"auto\", C=0.8).fit(X_train, Y_train)\n",
        "poly = svm.SVC(kernel='poly', C=0.8, coef0=2).fit(X_train, Y_train)\n",
        "linear = svm.SVC(kernel='linear', C=0.8).fit(X_train, Y_train)\n",
        "random_forest_classifier = RandomForestClassifier(n_estimators=150).fit(X_train, Y_train)"
      ],
      "execution_count": 102,
      "outputs": []
    },
    {
      "cell_type": "code",
      "metadata": {
        "colab": {
          "base_uri": "https://localhost:8080/"
        },
        "id": "PAw-_VXJ6MKS",
        "outputId": "0eba1765-04c6-498f-db79-0c7c5dabc52c"
      },
      "source": [
        "forrest_cv = cross_val_score(random_forest_classifier, X_val, Y_val, cv=5)"
      ],
      "execution_count": 69,
      "outputs": [
        {
          "output_type": "stream",
          "text": [
            "/usr/local/lib/python3.7/dist-packages/sklearn/model_selection/_split.py:667: UserWarning: The least populated class in y has only 1 members, which is less than n_splits=5.\n",
            "  % (min_groups, self.n_splits)), UserWarning)\n"
          ],
          "name": "stderr"
        }
      ]
    },
    {
      "cell_type": "code",
      "metadata": {
        "colab": {
          "base_uri": "https://localhost:8080/"
        },
        "id": "wq5WzWjztsxE",
        "outputId": "d8faf1b6-764f-4fd3-93a5-3d6374a282c6"
      },
      "source": [
        "print(f\"Random forest CV accuracy: {forrest_cv.mean():.2f} % with a standard deviation of: {forrest_cv.std():.2f} \")"
      ],
      "execution_count": 25,
      "outputs": [
        {
          "output_type": "stream",
          "text": [
            "Random forest CV accuracy: 0.63 % with a standard deviation of: 0.07 \n"
          ],
          "name": "stdout"
        }
      ]
    },
    {
      "cell_type": "code",
      "metadata": {
        "colab": {
          "base_uri": "https://localhost:8080/"
        },
        "id": "vQS1Di_psqpK",
        "outputId": "d2c093bd-632a-4768-b8f0-12e4964e70ac"
      },
      "source": [
        "rbf_cv = cross_val_score(rbf, X_val, Y_val, cv=5)\n",
        "poly_cv = cross_val_score(poly, X_val, Y_val, cv=5)\n",
        "linear_cv = cross_val_score(linear, X_val, Y_val, cv=5)"
      ],
      "execution_count": 79,
      "outputs": [
        {
          "output_type": "stream",
          "text": [
            "/usr/local/lib/python3.7/dist-packages/sklearn/model_selection/_split.py:667: UserWarning: The least populated class in y has only 1 members, which is less than n_splits=5.\n",
            "  % (min_groups, self.n_splits)), UserWarning)\n",
            "/usr/local/lib/python3.7/dist-packages/sklearn/model_selection/_split.py:667: UserWarning: The least populated class in y has only 1 members, which is less than n_splits=5.\n",
            "  % (min_groups, self.n_splits)), UserWarning)\n",
            "/usr/local/lib/python3.7/dist-packages/sklearn/model_selection/_split.py:667: UserWarning: The least populated class in y has only 1 members, which is less than n_splits=5.\n",
            "  % (min_groups, self.n_splits)), UserWarning)\n"
          ],
          "name": "stderr"
        }
      ]
    },
    {
      "cell_type": "code",
      "metadata": {
        "colab": {
          "base_uri": "https://localhost:8080/"
        },
        "id": "-D1s6wCxtt7s",
        "outputId": "173c61d0-70d6-4e30-d930-a3ff294550a5"
      },
      "source": [
        "print(f\"Rbf CV accuracy: {rbf_cv.mean():.2f} % with a standard deviation of: {rbf_cv.std():.2f} \")"
      ],
      "execution_count": 26,
      "outputs": [
        {
          "output_type": "stream",
          "text": [
            "Rbf CV accuracy: 0.48 % with a standard deviation of: 0.04 \n"
          ],
          "name": "stdout"
        }
      ]
    },
    {
      "cell_type": "code",
      "metadata": {
        "colab": {
          "base_uri": "https://localhost:8080/"
        },
        "id": "qpjSWGWFu_eT",
        "outputId": "f1077404-de5c-429f-9069-7f8d07bd1ae1"
      },
      "source": [
        "print(f\"Polynomial CV accuracy: {poly_cv.mean():.2f} % with a standard deviation of: {poly_cv.std():.2f} \")"
      ],
      "execution_count": 27,
      "outputs": [
        {
          "output_type": "stream",
          "text": [
            "Polynomial CV accuracy: 0.51 % with a standard deviation of: 0.02 \n"
          ],
          "name": "stdout"
        }
      ]
    },
    {
      "cell_type": "code",
      "metadata": {
        "colab": {
          "base_uri": "https://localhost:8080/"
        },
        "id": "p0Z-Fvx9vA-0",
        "outputId": "1de5ff3a-f2a6-4ac6-8da9-5f5820a1538f"
      },
      "source": [
        "print(f\"Linear CV accuracy: {linear_cv.mean():.2f} % with a standard deviation of: {linear_cv.std():.2f} \")"
      ],
      "execution_count": 28,
      "outputs": [
        {
          "output_type": "stream",
          "text": [
            "Linear CV accuracy: 0.54 % with a standard deviation of: 0.08 \n"
          ],
          "name": "stdout"
        }
      ]
    },
    {
      "cell_type": "code",
      "metadata": {
        "id": "02OQp8r2-Ny2"
      },
      "source": [
        "poly_pred = poly.predict(X_test)\n",
        "rbf_pred = rbf.predict(X_test)\n",
        "linear_pred = linear.predict(X_test)\n",
        "random_forest_pred = random_forest_classifier.predict(X_test)"
      ],
      "execution_count": 103,
      "outputs": []
    },
    {
      "cell_type": "code",
      "metadata": {
        "colab": {
          "base_uri": "https://localhost:8080/"
        },
        "id": "bvazqq7tFblo",
        "outputId": "d9670f4b-b982-4e27-a8ef-f0d6f0d1d348"
      },
      "source": [
        "random_forest_acc = accuracy_score(Y_test, random_forest_pred)\n",
        "random_forest_recall = recall_score(Y_test, random_forest_pred, average=\"weighted\")\n",
        "random_forest_f1 = f1_score(Y_test, random_forest_pred, average=\"weighted\")\n",
        "random_forest_conf = confusion_matrix(Y_test, random_forest_pred)\n",
        "print(\"Random forest:\")\n",
        "print(f'Accuracy: {random_forest_acc*100:.2f} %')\n",
        "print(f'Recall: {random_forest_recall*100:.2f} %')\n",
        "print(f'F1: {random_forest_f1*100:.2f} %')\n",
        "print('Confusion Matrix:')\n",
        "print(random_forest_conf)"
      ],
      "execution_count": 104,
      "outputs": [
        {
          "output_type": "stream",
          "text": [
            "Random forest:\n",
            "Accuracy: 69.38 %\n",
            "Recall: 69.38 %\n",
            "F1: 67.16 %\n",
            "Confusion Matrix:\n",
            "[[ 0  0  2  0  0  0]\n",
            " [ 0  0  2  4  0  0]\n",
            " [ 0  0 57 13  0  0]\n",
            " [ 0  0 16 44  2  0]\n",
            " [ 0  0  1  6  9  0]\n",
            " [ 0  0  0  2  1  1]]\n"
          ],
          "name": "stdout"
        }
      ]
    },
    {
      "cell_type": "code",
      "metadata": {
        "colab": {
          "base_uri": "https://localhost:8080/"
        },
        "id": "T41vkFgs-ofG",
        "outputId": "d0d60633-1eda-4453-8992-0bded952362d"
      },
      "source": [
        "poly_accuracy = accuracy_score(Y_test, poly_pred)\n",
        "poly_recall = recall_score(Y_test, poly_pred, average=\"weighted\")\n",
        "poly_f1 = f1_score(Y_test, poly_pred, average='weighted')\n",
        "poly_conf = confusion_matrix(Y_test, poly_pred)\n",
        "print(\"Polynomial Kernel:\")\n",
        "print(f'Accuracy: {poly_accuracy*100:.2f} %')\n",
        "print(f'Recall: {poly_recall*100:.2f} %')\n",
        "print(f'F1: {poly_f1*100:.2f} %')\n",
        "print('Confusion Matrix:')\n",
        "print(poly_conf)"
      ],
      "execution_count": 92,
      "outputs": [
        {
          "output_type": "stream",
          "text": [
            "Polynomial Kernel:\n",
            "Accuracy: 53.75 %\n",
            "Recall: 53.75 %\n",
            "F1: 48.77 %\n",
            "Confusion Matrix:\n",
            "[[ 0  0  0  1  0  0]\n",
            " [ 0  0  4  3  0  0]\n",
            " [ 0  0 45 21  0  0]\n",
            " [ 0  0 25 41  0  0]\n",
            " [ 0  0  0 18  0  0]\n",
            " [ 0  0  0  2  0  0]]\n"
          ],
          "name": "stdout"
        }
      ]
    },
    {
      "cell_type": "code",
      "metadata": {
        "colab": {
          "base_uri": "https://localhost:8080/"
        },
        "id": "0nMd6R2I-SI0",
        "outputId": "3e2357fb-ec34-419a-bfbe-efb58edb6881"
      },
      "source": [
        "rbf_accuracy = accuracy_score(Y_test, rbf_pred)\n",
        "rbf_recall = recall_score(Y_test, rbf_pred, average=\"weighted\")\n",
        "rbf_f1 = f1_score(Y_test, rbf_pred, average='weighted')\n",
        "rbf_conf = confusion_matrix(Y_test, poly_pred)\n",
        "print(\"RBF Kernel:\")\n",
        "print(f'Accuracy:  {rbf_accuracy*100:.2f} %')\n",
        "print(f'Recall: {rbf_recall*100:.2f} %')\n",
        "print(f'F1: {rbf_f1*100:.2f} %')\n",
        "print('Confusion Matrix:')\n",
        "print(rbf_conf)"
      ],
      "execution_count": 93,
      "outputs": [
        {
          "output_type": "stream",
          "text": [
            "RBF Kernel:\n",
            "Accuracy:  53.12 %\n",
            "Recall: 53.12 %\n",
            "F1: 49.50 %\n",
            "Confusion Matrix:\n",
            "[[ 0  0  0  1  0  0]\n",
            " [ 0  0  4  3  0  0]\n",
            " [ 0  0 45 21  0  0]\n",
            " [ 0  0 25 41  0  0]\n",
            " [ 0  0  0 18  0  0]\n",
            " [ 0  0  0  2  0  0]]\n"
          ],
          "name": "stdout"
        }
      ]
    },
    {
      "cell_type": "code",
      "metadata": {
        "colab": {
          "base_uri": "https://localhost:8080/"
        },
        "id": "YiSETBhgEDTP",
        "outputId": "54c1f02b-9736-4972-a672-5bc689e0c50d"
      },
      "source": [
        "linear_acc = accuracy_score(Y_test, linear_pred)\n",
        "linear_recall = recall_score(Y_test, linear_pred, average=\"weighted\")\n",
        "linear_f1 = f1_score(Y_test, linear_pred, average='weighted')\n",
        "linear_conf = confusion_matrix(Y_test, linear_pred)\n",
        "print(\"Linear Kernel:\")\n",
        "print(f'Accuracy: {linear_acc*100:.2f} %')\n",
        "print(f'Recall: {linear_recall*100:.2f} %')\n",
        "print(f'F1: {linear_f1*100:.2f} %')\n",
        "print('Confusion Matrix:')\n",
        "print(linear_conf)"
      ],
      "execution_count": 94,
      "outputs": [
        {
          "output_type": "stream",
          "text": [
            "Linear Kernel:\n",
            "Accuracy: 56.88 %\n",
            "Recall: 56.88 %\n",
            "F1: 51.42 %\n",
            "Confusion Matrix:\n",
            "[[ 0  0  1  0  0  0]\n",
            " [ 0  0  6  1  0  0]\n",
            " [ 0  0 49 17  0  0]\n",
            " [ 0  0 24 42  0  0]\n",
            " [ 0  0  0 18  0  0]\n",
            " [ 0  0  0  2  0  0]]\n"
          ],
          "name": "stdout"
        }
      ]
    }
  ]
}