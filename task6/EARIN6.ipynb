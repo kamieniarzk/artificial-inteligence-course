{
  "nbformat": 4,
  "nbformat_minor": 0,
  "metadata": {
    "colab": {
      "name": "EARIN6.ipynb",
      "provenance": [],
      "collapsed_sections": []
    },
    "kernelspec": {
      "name": "python3",
      "display_name": "Python 3"
    },
    "language_info": {
      "name": "python"
    }
  },
  "cells": [
    {
      "cell_type": "code",
      "metadata": {
        "id": "16MGK_uWZPfS"
      },
      "source": [
        "import pandas as pd\n",
        "import numpy as np\n",
        "import random\n",
        "import numpy as np\n",
        "\n",
        "from sklearn import linear_model\n",
        "import matplotlib.pyplot as plt\n",
        "from sklearn import svm\n",
        "from sklearn.neighbors import KNeighborsClassifier\n",
        "from sklearn.metrics import accuracy_score, f1_score, confusion_matrix, recall_score\n",
        "from sklearn.model_selection import cross_val_score\n",
        "from sklearn.ensemble import RandomForestClassifier"
      ],
      "execution_count": null,
      "outputs": []
    },
    {
      "cell_type": "code",
      "metadata": {
        "id": "_3RKz7S6akkz"
      },
      "source": [
        "# Enter your CSV path\n",
        "csv_path = \"/content/winequality-red.csv\""
      ],
      "execution_count": null,
      "outputs": []
    },
    {
      "cell_type": "code",
      "metadata": {
        "id": "-IDa5AjTae9s"
      },
      "source": [
        "df = pd.read_csv(csv_path)"
      ],
      "execution_count": null,
      "outputs": []
    },
    {
      "cell_type": "code",
      "metadata": {
        "id": "2VgF4WaAepAk"
      },
      "source": [
        "wines = df.sample(frac=1).copy()\n",
        "train_dataset = wines.sample(frac=0.8, random_state=0)\n",
        "wines = wines.drop(train_dataset.index)\n",
        "validation_dataset = wines.sample(frac=0.5, random_state=0)\n",
        "test_dataset = wines.drop(validation_dataset.index)\n",
        "# test_dataset = wines.drop(train_dataset.index)"
      ],
      "execution_count": null,
      "outputs": []
    },
    {
      "cell_type": "code",
      "metadata": {
        "id": "A6C46KOTFgyV"
      },
      "source": [
        "# index_names = wines[wines[\"quality\"] == 3].index\n",
        "# wines.drop(index_names, inplace=True)"
      ],
      "execution_count": null,
      "outputs": []
    },
    {
      "cell_type": "code",
      "metadata": {
        "id": "ZwJ0K368N6ee"
      },
      "source": [
        "wines[\"quality\"].hist(figsize=(8,6))"
      ],
      "execution_count": null,
      "outputs": []
    },
    {
      "cell_type": "code",
      "metadata": {
        "id": "4oBYRiAYg9Ke"
      },
      "source": [
        "print(train_dataset)\n",
        "print(validation_dataset)\n",
        "print(test_dataset)\n",
        "\n",
        "assert len(train_dataset) + len(validation_dataset) + len(test_dataset) == len(df)"
      ],
      "execution_count": null,
      "outputs": []
    },
    {
      "cell_type": "code",
      "metadata": {
        "id": "byJFn56b5ecX"
      },
      "source": [
        "# Train data\n",
        "X_train = train_dataset.values[:, :11]\n",
        "Y_train = train_dataset.values[:, 11]\n",
        "\n",
        "# # # Validation data\n",
        "X_val = validation_dataset.values[:, :11]\n",
        "Y_val = validation_dataset.values[:, 11]\n",
        "\n",
        "# Test data\n",
        "X_test = test_dataset.values[:, :11]\n",
        "Y_test = test_dataset.values[:, 11]"
      ],
      "execution_count": null,
      "outputs": []
    },
    {
      "cell_type": "code",
      "metadata": {
        "id": "V7-JpLJ07QUt"
      },
      "source": [
        "rbf = svm.SVC(kernel='rbf', gamma=\"auto\", C=0.8).fit(X_train, Y_train)\n",
        "poly = svm.SVC(kernel='poly', C=0.8, coef0=2).fit(X_train, Y_train)\n",
        "linear = svm.SVC(kernel='linear', C=0.8).fit(X_train, Y_train)\n",
        "random_forest_classifier = RandomForestClassifier(n_estimators=100).fit(X_train, Y_train)\n",
        "knn = KNeighborsClassifier(n_neighbors=5).fit(X_train, Y_train)"
      ],
      "execution_count": null,
      "outputs": []
    },
    {
      "cell_type": "code",
      "metadata": {
        "id": "PAw-_VXJ6MKS"
      },
      "source": [
        "forrest_cv = cross_val_score(random_forest_classifier, X_val, Y_val, cv=5)"
      ],
      "execution_count": null,
      "outputs": []
    },
    {
      "cell_type": "code",
      "metadata": {
        "id": "wq5WzWjztsxE"
      },
      "source": [
        "print(f\"Random forest CV accuracy: {forrest_cv.mean():.2f} % with a standard deviation of: {forrest_cv.std():.2f} \")"
      ],
      "execution_count": null,
      "outputs": []
    },
    {
      "cell_type": "code",
      "metadata": {
        "id": "lJ5H7422Dx81"
      },
      "source": [
        "knn_cv = cross_val_score(knn, X_val, Y_val, cv=5)"
      ],
      "execution_count": null,
      "outputs": []
    },
    {
      "cell_type": "code",
      "metadata": {
        "id": "z_-izWcxD1IL"
      },
      "source": [
        "print(f\"KNN CV accuracy: {knn_cv.mean():.2f} % with a standard deviation of: {knn_cv.std():.2f} \")"
      ],
      "execution_count": null,
      "outputs": []
    },
    {
      "cell_type": "code",
      "metadata": {
        "id": "vQS1Di_psqpK"
      },
      "source": [
        "rbf_cv = cross_val_score(rbf, X_val, Y_val, cv=5)\n",
        "poly_cv = cross_val_score(poly, X_val, Y_val, cv=5)\n",
        "linear_cv = cross_val_score(linear, X_val, Y_val, cv=5)"
      ],
      "execution_count": null,
      "outputs": []
    },
    {
      "cell_type": "code",
      "metadata": {
        "id": "-D1s6wCxtt7s"
      },
      "source": [
        "print(f\"Rbf CV accuracy: {rbf_cv.mean():.2f} % with a standard deviation of: {rbf_cv.std():.2f} \")\n",
        "print(f\"Polynomial CV accuracy: {poly_cv.mean():.2f} % with a standard deviation of: {poly_cv.std():.2f} \")\n",
        "print(f\"Linear CV accuracy: {linear_cv.mean():.2f} % with a standard deviation of: {linear_cv.std():.2f} \")"
      ],
      "execution_count": null,
      "outputs": []
    },
    {
      "cell_type": "code",
      "metadata": {
        "id": "02OQp8r2-Ny2"
      },
      "source": [
        "poly_pred = poly.predict(X_test)\n",
        "rbf_pred = rbf.predict(X_test)\n",
        "linear_pred = linear.predict(X_test)\n",
        "random_forest_pred = random_forest_classifier.predict(X_test)\n",
        "knn_pred = knn.predict(X_test)"
      ],
      "execution_count": null,
      "outputs": []
    },
    {
      "cell_type": "code",
      "metadata": {
        "colab": {
          "base_uri": "https://localhost:8080/"
        },
        "id": "bvazqq7tFblo",
        "outputId": "d40c865e-f332-4c40-cce5-f2de2ed2e960"
      },
      "source": [
        "random_forest_acc = accuracy_score(Y_test, random_forest_pred)\n",
        "random_forest_recall = recall_score(Y_test, random_forest_pred, average=\"weighted\")\n",
        "random_forest_f1 = f1_score(Y_test, random_forest_pred, average=\"weighted\")\n",
        "random_forest_conf = confusion_matrix(Y_test, random_forest_pred)\n",
        "print(\"Random forest:\")\n",
        "print(f'Accuracy: {random_forest_acc*100:.2f} %')\n",
        "print(f'Recall: {random_forest_recall*100:.2f} %')\n",
        "print(f'F1: {random_forest_f1*100:.2f} %')\n",
        "print('Confusion Matrix:')\n",
        "print(random_forest_conf)"
      ],
      "execution_count": null,
      "outputs": [
        {
          "output_type": "stream",
          "text": [
            "Random forest:\n",
            "Accuracy: 75.00 %\n",
            "Recall: 75.00 %\n",
            "F1: 73.45 %\n",
            "Confusion Matrix:\n",
            "[[ 0  1  2  0  0  0]\n",
            " [ 0  0  2  1  0  0]\n",
            " [ 0  0 61 10  1  0]\n",
            " [ 0  0 11 48  5  0]\n",
            " [ 0  0  0  3 10  0]\n",
            " [ 0  0  0  1  3  1]]\n"
          ],
          "name": "stdout"
        }
      ]
    },
    {
      "cell_type": "code",
      "metadata": {
        "colab": {
          "base_uri": "https://localhost:8080/"
        },
        "id": "pQmWIt0XEHH6",
        "outputId": "509c89cb-ffb8-4054-ad24-6e39d77a6fd9"
      },
      "source": [
        "knn_acc = accuracy_score(Y_test, knn_pred)\n",
        "knn_recall = recall_score(Y_test, knn_pred, average=\"micro\")\n",
        "knn_f1 = f1_score(Y_test, knn_pred, average=\"weighted\")\n",
        "knn_conf = confusion_matrix(Y_test, knn_pred)\n",
        "print(\"K-Nearest neighbors:\")\n",
        "print(f'Accuracy: {knn_acc*100:.2f} %')\n",
        "print(f'Recall: {knn_recall*100:.2f} %')\n",
        "print(f'F1: {knn_f1*100:.2f} %')\n",
        "print('Confusion Matrix:')\n",
        "print(knn_conf)"
      ],
      "execution_count": null,
      "outputs": [
        {
          "output_type": "stream",
          "text": [
            "K-Nearest neighbors:\n",
            "Accuracy: 43.75 %\n",
            "Recall: 43.75 %\n",
            "F1: 42.70 %\n",
            "Confusion Matrix:\n",
            "[[ 0  0  1  2  0  0]\n",
            " [ 0  0  2  1  0  0]\n",
            " [ 0  2 35 34  1  0]\n",
            " [ 0  0 27 28  9  0]\n",
            " [ 0  0  2  4  7  0]\n",
            " [ 0  0  0  2  3  0]]\n"
          ],
          "name": "stdout"
        }
      ]
    },
    {
      "cell_type": "code",
      "metadata": {
        "colab": {
          "base_uri": "https://localhost:8080/"
        },
        "id": "T41vkFgs-ofG",
        "outputId": "4723f91b-e907-4b5b-e6e4-351f88c176bf"
      },
      "source": [
        "poly_accuracy = accuracy_score(Y_test, poly_pred)\n",
        "poly_recall = recall_score(Y_test, poly_pred, average=\"weighted\")\n",
        "poly_f1 = f1_score(Y_test, poly_pred, average='weighted')\n",
        "poly_conf = confusion_matrix(Y_test, poly_pred)\n",
        "print(\"Polynomial Kernel:\")\n",
        "print(f'Accuracy: {poly_accuracy*100:.2f} %')\n",
        "print(f'Recall: {poly_recall*100:.2f} %')\n",
        "print(f'F1: {poly_f1*100:.2f} %')\n",
        "print('Confusion Matrix:')\n",
        "print(poly_conf)"
      ],
      "execution_count": null,
      "outputs": [
        {
          "output_type": "stream",
          "text": [
            "Polynomial Kernel:\n",
            "Accuracy: 56.88 %\n",
            "Recall: 56.88 %\n",
            "F1: 52.41 %\n",
            "Confusion Matrix:\n",
            "[[ 0  0  0  3  0  0]\n",
            " [ 0  0  3  0  0  0]\n",
            " [ 0  0 40 32  0  0]\n",
            " [ 0  0 13 51  0  0]\n",
            " [ 0  0  0 13  0  0]\n",
            " [ 0  0  0  5  0  0]]\n"
          ],
          "name": "stdout"
        }
      ]
    },
    {
      "cell_type": "code",
      "metadata": {
        "colab": {
          "base_uri": "https://localhost:8080/"
        },
        "id": "0nMd6R2I-SI0",
        "outputId": "182cbffa-f1b5-4023-c606-4794002c5540"
      },
      "source": [
        "rbf_accuracy = accuracy_score(Y_test, rbf_pred)\n",
        "rbf_recall = recall_score(Y_test, rbf_pred, average=\"weighted\")\n",
        "rbf_f1 = f1_score(Y_test, rbf_pred, average='weighted')\n",
        "rbf_conf = confusion_matrix(Y_test, poly_pred)\n",
        "print(\"RBF Kernel:\")\n",
        "print(f'Accuracy:  {rbf_accuracy*100:.2f} %')\n",
        "print(f'Recall: {rbf_recall*100:.2f} %')\n",
        "print(f'F1: {rbf_f1*100:.2f} %')\n",
        "print('Confusion Matrix:')\n",
        "print(rbf_conf)"
      ],
      "execution_count": null,
      "outputs": [
        {
          "output_type": "stream",
          "text": [
            "RBF Kernel:\n",
            "Accuracy:  57.50 %\n",
            "Recall: 57.50 %\n",
            "F1: 55.55 %\n",
            "Confusion Matrix:\n",
            "[[ 0  0  0  3  0  0]\n",
            " [ 0  0  3  0  0  0]\n",
            " [ 0  0 40 32  0  0]\n",
            " [ 0  0 13 51  0  0]\n",
            " [ 0  0  0 13  0  0]\n",
            " [ 0  0  0  5  0  0]]\n"
          ],
          "name": "stdout"
        }
      ]
    },
    {
      "cell_type": "code",
      "metadata": {
        "colab": {
          "base_uri": "https://localhost:8080/"
        },
        "id": "YiSETBhgEDTP",
        "outputId": "f56c7685-4845-4ffb-d553-58b313d0b326"
      },
      "source": [
        "linear_acc = accuracy_score(Y_test, linear_pred)\n",
        "linear_recall = recall_score(Y_test, linear_pred, average=\"weighted\")\n",
        "linear_f1 = f1_score(Y_test, linear_pred, average='weighted')\n",
        "linear_conf = confusion_matrix(Y_test, linear_pred)\n",
        "print(\"Linear Kernel:\")\n",
        "print(f'Accuracy: {linear_acc*100:.2f} %')\n",
        "print(f'Recall: {linear_recall*100:.2f} %')\n",
        "print(f'F1: {linear_f1*100:.2f} %')\n",
        "print('Confusion Matrix:')\n",
        "print(linear_conf)"
      ],
      "execution_count": null,
      "outputs": [
        {
          "output_type": "stream",
          "text": [
            "Linear Kernel:\n",
            "Accuracy: 63.12 %\n",
            "Recall: 63.12 %\n",
            "F1: 58.12 %\n",
            "Confusion Matrix:\n",
            "[[ 0  0  3  0  0  0]\n",
            " [ 0  0  3  0  0  0]\n",
            " [ 0  0 56 16  0  0]\n",
            " [ 0  0 19 45  0  0]\n",
            " [ 0  0  0 13  0  0]\n",
            " [ 0  0  0  5  0  0]]\n"
          ],
          "name": "stdout"
        }
      ]
    }
  ]
}